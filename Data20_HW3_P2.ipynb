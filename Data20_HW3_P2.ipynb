{
 "cells": [
  {
   "cell_type": "markdown",
   "id": "12f2ce5b",
   "metadata": {},
   "source": [
    "# Homework 3- Dealing with categorical data\n"
   ]
  },
  {
   "cell_type": "markdown",
   "id": "53b86efc",
   "metadata": {},
   "source": [
    "## By Team VAC"
   ]
  },
  {
   "cell_type": "markdown",
   "id": "24daa777",
   "metadata": {},
   "source": [
    "### Chosen Data Source"
   ]
  },
  {
   "cell_type": "markdown",
   "id": "feac26e6",
   "metadata": {},
   "source": [
    "For our project one, we have revamped the karate network to hold categorical values. Previous, the Karate network only hold edges of friendship between the nodes (students). For our analysis, we have expand our current data set to hold values for our memebers. The network can now identity the member's gender and the memeber's belt status.\n"
   ]
  },
  {
   "cell_type": "markdown",
   "id": "66f3467e",
   "metadata": {},
   "source": [
    "### Analysis Plan"
   ]
  },
  {
   "cell_type": "markdown",
   "id": "09469b4d",
   "metadata": {},
   "source": [
    "For our route in analysis, we want to measure the prediction of proximity of a memeber's expertise define by their closeness centrality score. If a member of a high degree rank is more likely to hold a higher score compare to a white belt member.\n",
    "For loading the data, we will use the same method seen in the homeworks with the chosen network. However, this network is our improved network with the new node attributions. \n",
    "\n"
   ]
  },
  {
   "cell_type": "markdown",
   "id": "023b38aa",
   "metadata": {},
   "source": [
    "### Possible outcomes"
   ]
  },
  {
   "cell_type": "markdown",
   "id": "be7f2a21",
   "metadata": {},
   "source": [
    "One hypothetical outcome is one mid rank member has the highest shortest path with majority of the white belts members, which their centrality score can identify them as the club's recuiter. Another angle of the data can show a clear path to leadership, as the measure score show members of blue belt or higher have closer aproximity to black belts."
   ]
  }
 ],
 "metadata": {
  "kernelspec": {
   "display_name": "Python 3 (ipykernel)",
   "language": "python",
   "name": "python3"
  },
  "language_info": {
   "codemirror_mode": {
    "name": "ipython",
    "version": 3
   },
   "file_extension": ".py",
   "mimetype": "text/x-python",
   "name": "python",
   "nbconvert_exporter": "python",
   "pygments_lexer": "ipython3",
   "version": "3.9.12"
  }
 },
 "nbformat": 4,
 "nbformat_minor": 5
}
