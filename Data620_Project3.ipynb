{
 "cells": [
  {
   "cell_type": "markdown",
   "id": "096e2876",
   "metadata": {},
   "source": [
    "# Gender Identification With A Decision Tree"
   ]
  },
  {
   "cell_type": "code",
   "execution_count": 1,
   "id": "462b635e",
   "metadata": {},
   "outputs": [],
   "source": [
    "### Initialize a classifier\n",
    "import pandas as pd\n",
    "import random\n",
    "import nltk\n",
    "\n",
    "# Download names if they don't exist locally\n",
    "try:\n",
    "    nltk.data.find('corpora/names')\n",
    "except LookupError:\n",
    "    nltk.download('names')\n",
    "    \n",
    "    \n",
    "from nltk.corpus import names\n"
   ]
  },
  {
   "cell_type": "markdown",
   "id": "b1a171e2",
   "metadata": {},
   "source": [
    "### Define Different Features for the Decision Tree Classifiers"
   ]
  },
  {
   "cell_type": "code",
   "execution_count": 8,
   "id": "7a43c768",
   "metadata": {},
   "outputs": [],
   "source": [
    "# Guessing the gender from the last letter of a name\n",
    "def gender_features(word):\n",
    "    return {'last_letter': word[-1] }\n",
    "\n",
    "# Guess the gender from the first/last letter and counting letters\n",
    "def gender_features2(name):\n",
    "    features = {}\n",
    "    features['firstletter'] = name[0].lower()\n",
    "    features['lastletter'] = name[-1].lower()\n",
    "    for letter in 'abcdefghijklmnopqrstuvwxyz':\n",
    "        features['count (%s)' % letter] = name.lower().count(letter)\n",
    "        features['has (%s)' % letter] = (letter in name.lower())\n",
    "    return features\n",
    "\n",
    "# Just a predictably bad guesser\n",
    "def bad_feature(word):\n",
    "    return {'bleah' : 1}"
   ]
  },
  {
   "cell_type": "markdown",
   "id": "952f684f",
   "metadata": {},
   "source": [
    "### Setup Various Testing Sets"
   ]
  },
  {
   "cell_type": "code",
   "execution_count": 3,
   "id": "9110bf7e",
   "metadata": {},
   "outputs": [],
   "source": [
    "# Compile all names into a list\n",
    "all_names = ([(name, 'male') for name in names.words('male.txt')] +\n",
    "            [(name, 'female') for name in names.words('female.txt')])\n",
    "\n",
    "# randomize the entire list\n",
    "random.shuffle(all_names)\n",
    "\n",
    "\n",
    "# Setup the train, devtest and test sets\n",
    "train_names, devtest_names, test_names = all_names[0:500], all_names[500:1000], all_names[1000:]\n"
   ]
  },
  {
   "cell_type": "markdown",
   "id": "b6e0bd3a",
   "metadata": {},
   "source": [
    "### Try All of the Feature Functions"
   ]
  },
  {
   "cell_type": "code",
   "execution_count": 11,
   "id": "5a233713",
   "metadata": {},
   "outputs": [
    {
     "data": {
      "text/html": [
       "<div>\n",
       "<style scoped>\n",
       "    .dataframe tbody tr th:only-of-type {\n",
       "        vertical-align: middle;\n",
       "    }\n",
       "\n",
       "    .dataframe tbody tr th {\n",
       "        vertical-align: top;\n",
       "    }\n",
       "\n",
       "    .dataframe thead th {\n",
       "        text-align: right;\n",
       "    }\n",
       "</style>\n",
       "<table border=\"1\" class=\"dataframe\">\n",
       "  <thead>\n",
       "    <tr style=\"text-align: right;\">\n",
       "      <th></th>\n",
       "      <th>Function</th>\n",
       "      <th>Training Accuracy</th>\n",
       "      <th>Devtest Accuracy</th>\n",
       "      <th>Test Accuracy</th>\n",
       "    </tr>\n",
       "  </thead>\n",
       "  <tbody>\n",
       "    <tr>\n",
       "      <th>0</th>\n",
       "      <td>gender_features</td>\n",
       "      <td>0.778</td>\n",
       "      <td>0.402</td>\n",
       "      <td>0.367079</td>\n",
       "    </tr>\n",
       "    <tr>\n",
       "      <th>1</th>\n",
       "      <td>gender_features2</td>\n",
       "      <td>0.960</td>\n",
       "      <td>0.742</td>\n",
       "      <td>0.738047</td>\n",
       "    </tr>\n",
       "    <tr>\n",
       "      <th>2</th>\n",
       "      <td>bad_feature</td>\n",
       "      <td>0.614</td>\n",
       "      <td>0.598</td>\n",
       "      <td>0.632921</td>\n",
       "    </tr>\n",
       "  </tbody>\n",
       "</table>\n",
       "</div>"
      ],
      "text/plain": [
       "           Function  Training Accuracy  Devtest Accuracy  Test Accuracy\n",
       "0   gender_features              0.778             0.402       0.367079\n",
       "1  gender_features2              0.960             0.742       0.738047\n",
       "2       bad_feature              0.614             0.598       0.632921"
      ]
     },
     "execution_count": 11,
     "metadata": {},
     "output_type": "execute_result"
    }
   ],
   "source": [
    "# Iterate through the different feature functions \n",
    "# and compare their accuracy\n",
    "\n",
    "results_list = []\n",
    "\n",
    "# create a list of feature function\n",
    "gender_functions = [gender_features, gender_features2, bad_feature]\n",
    "\n",
    "# For each feature function, try to classify the test sets\n",
    "for fn in gender_functions:\n",
    "    train_set = [(fn(n), g) for (n,g) in train_names]\n",
    "    devtest_set = [(gender_features2(n), g) for (n,g) in devtest_names]\n",
    "    test_set = [(gender_features2(n), g) for (n,g) in test_names]\n",
    "    \n",
    "    # make a classifier from the training set\n",
    "    classifier = nltk.classify.DecisionTreeClassifier.train(train_set)\n",
    "\n",
    "    # Print the classifier logic\n",
    "    #print(classifier)\n",
    "\n",
    "    # Get the accuracies\n",
    "    accuracy_train = nltk.classify.accuracy(classifier, train_set)\n",
    "    accuracy_devtest = nltk.classify.accuracy(classifier, devtest_set)\n",
    "    accuracy_test = nltk.classify.accuracy(classifier, test_set)\n",
    "\n",
    "    results_list.append([fn.__name__, accuracy_train, accuracy_devtest, accuracy_test])\n",
    "\n",
    "\n",
    "results_df = pd.DataFrame(results_list,\n",
    "                          columns=['Function', \n",
    "                                   'Training Accuracy', \n",
    "                                   'Devtest Accuracy',\n",
    "                                   'Test Accuracy',\n",
    "                                   ])\n",
    "\n",
    "results_df.head()\n"
   ]
  },
  {
   "cell_type": "code",
   "execution_count": 6,
   "id": "e4e43f92",
   "metadata": {},
   "outputs": [],
   "source": [
    "# Get the errors from using the devtest_set\n",
    "#errors = []\n",
    "#for (name, tag) in devtest_names:\n",
    "#    guess = classifier.classify(gender_features(name))\n",
    "#    if guess != tag:\n",
    "#        errors.append( (tag, guess, name) )\n",
    "\n",
    "#for (tag, guess, name) in sorted(errors):\n",
    "#    print( 'correct=%-8s guess=%-8s name=%-30s' % (tag, guess, name))\n"
   ]
  }
 ],
 "metadata": {
  "kernelspec": {
   "display_name": "Python 3 (ipykernel)",
   "language": "python",
   "name": "python3"
  },
  "language_info": {
   "codemirror_mode": {
    "name": "ipython",
    "version": 3
   },
   "file_extension": ".py",
   "mimetype": "text/x-python",
   "name": "python",
   "nbconvert_exporter": "python",
   "pygments_lexer": "ipython3",
   "version": "3.9.12"
  }
 },
 "nbformat": 4,
 "nbformat_minor": 5
}
