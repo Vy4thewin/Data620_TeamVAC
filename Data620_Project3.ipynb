{
 "cells": [
  {
   "cell_type": "markdown",
   "id": "096e2876",
   "metadata": {},
   "source": [
    "# Gender Identification With A Decision Tree"
   ]
  },
  {
   "cell_type": "code",
   "execution_count": 47,
   "id": "462b635e",
   "metadata": {},
   "outputs": [],
   "source": [
    "### Initialize a classifier\n",
    "import nltk\n",
    "\n",
    "# Download names if they don't exist locally\n",
    "try:\n",
    "    nltk.data.find('corpora/names')\n",
    "except LookupError:\n",
    "    nltk.download('names')\n",
    "    \n",
    "    \n",
    "from nltk.corpus import names\n",
    "import random\n"
   ]
  },
  {
   "cell_type": "code",
   "execution_count": 49,
   "id": "7a43c768",
   "metadata": {},
   "outputs": [],
   "source": [
    "def gender_features(word):\n",
    "    return {'last_letter': word[-1] }\n"
   ]
  },
  {
   "cell_type": "code",
   "execution_count": 50,
   "id": "9110bf7e",
   "metadata": {},
   "outputs": [],
   "source": [
    "# Compile all names into a list\n",
    "all_names = ([(name, 'male') for name in names.words('male.txt')] +\n",
    "            [(name, 'female') for name in names.words('female.txt')])\n",
    "\n",
    "# randomize the entire list\n",
    "random.shuffle(all_names)\n",
    "\n",
    "\n",
    "# Setup the train, devtest and test sets\n",
    "train_names, devtest_names, test_names = all_names[0:500], all_names[500:1000], all_names[1000:]\n",
    "train_set = [(gender_features(n), g) for (n,g) in train_names]\n",
    "devtest_set = [(gender_features(n), g) for (n,g) in devtest_names]\n",
    "test_set = [(gender_features(n), g) for (n,g) in test_names]\n",
    "\n",
    "\n"
   ]
  },
  {
   "cell_type": "code",
   "execution_count": 51,
   "id": "5a233713",
   "metadata": {},
   "outputs": [
    {
     "name": "stdout",
     "output_type": "stream",
     "text": [
      "last_letter=a? ........................................ female\n",
      "last_letter=b? ........................................ male\n",
      "last_letter=c? ........................................ male\n",
      "last_letter=d? ........................................ male\n",
      "last_letter=e? ........................................ female\n",
      "last_letter=f? ........................................ male\n",
      "last_letter=g? ........................................ female\n",
      "last_letter=h? ........................................ male\n",
      "last_letter=i? ........................................ female\n",
      "last_letter=k? ........................................ male\n",
      "last_letter=l? ........................................ male\n",
      "last_letter=m? ........................................ male\n",
      "last_letter=n? ........................................ male\n",
      "last_letter=o? ........................................ male\n",
      "last_letter=p? ........................................ male\n",
      "last_letter=r? ........................................ male\n",
      "last_letter=s? ........................................ male\n",
      "last_letter=t? ........................................ male\n",
      "last_letter=u? ........................................ male\n",
      "last_letter=v? ........................................ female\n",
      "last_letter=w? ........................................ female\n",
      "last_letter=x? ........................................ female\n",
      "last_letter=y? ........................................ female\n",
      "last_letter=z? ........................................ male\n",
      "\n"
     ]
    }
   ],
   "source": [
    "# make a classifier from the training set\n",
    "classifier = nltk.classify.DecisionTreeClassifier.train(train_set)\n",
    "\n",
    "# Print the classifier logic\n",
    "print(classifier)\n"
   ]
  },
  {
   "cell_type": "code",
   "execution_count": 53,
   "id": "8ca6509e",
   "metadata": {},
   "outputs": [
    {
     "name": "stdout",
     "output_type": "stream",
     "text": [
      "0.77\n"
     ]
    }
   ],
   "source": [
    "# Train the classifier\n",
    "print( nltk.classify.accuracy(classifier, train_set))\n"
   ]
  },
  {
   "cell_type": "code",
   "execution_count": 52,
   "id": "e4e43f92",
   "metadata": {},
   "outputs": [
    {
     "name": "stdout",
     "output_type": "stream",
     "text": [
      "0.77\n",
      "correct=female   guess=male     name=Adah                          \n",
      "correct=female   guess=male     name=Allyson                       \n",
      "correct=female   guess=male     name=Ardys                         \n",
      "correct=female   guess=male     name=Averil                        \n",
      "correct=female   guess=male     name=Avivah                        \n",
      "correct=female   guess=male     name=Avrit                         \n",
      "correct=female   guess=male     name=Bert                          \n",
      "correct=female   guess=male     name=Beryl                         \n",
      "correct=female   guess=male     name=Bird                          \n",
      "correct=female   guess=male     name=Brynn                         \n",
      "correct=female   guess=male     name=Carilyn                       \n",
      "correct=female   guess=male     name=Carin                         \n",
      "correct=female   guess=male     name=Caro                          \n",
      "correct=female   guess=male     name=Charis                        \n",
      "correct=female   guess=male     name=Chriss                        \n",
      "correct=female   guess=male     name=Consuelo                      \n",
      "correct=female   guess=male     name=Coralyn                       \n",
      "correct=female   guess=male     name=Cristal                       \n",
      "correct=female   guess=male     name=Denys                         \n",
      "correct=female   guess=male     name=Diahann                       \n",
      "correct=female   guess=male     name=Ethelind                      \n",
      "correct=female   guess=male     name=Fan                           \n",
      "correct=female   guess=male     name=Farand                        \n",
      "correct=female   guess=male     name=Faun                          \n",
      "correct=female   guess=male     name=Gabriel                       \n",
      "correct=female   guess=male     name=Garland                       \n",
      "correct=female   guess=male     name=Hannis                        \n",
      "correct=female   guess=male     name=Harriett                      \n",
      "correct=female   guess=male     name=Hesther                       \n",
      "correct=female   guess=male     name=Idell                         \n",
      "correct=female   guess=male     name=Jaleh                         \n",
      "correct=female   guess=male     name=Josselyn                      \n",
      "correct=female   guess=male     name=Kamilah                       \n",
      "correct=female   guess=male     name=Karylin                       \n",
      "correct=female   guess=male     name=Kessiah                       \n",
      "correct=female   guess=male     name=Kit                           \n",
      "correct=female   guess=male     name=Kristien                      \n",
      "correct=female   guess=male     name=Leigh                         \n",
      "correct=female   guess=male     name=Loralyn                       \n",
      "correct=female   guess=male     name=Mairead                       \n",
      "correct=female   guess=male     name=Marabel                       \n",
      "correct=female   guess=male     name=Margit                        \n",
      "correct=female   guess=male     name=Marys                         \n",
      "correct=female   guess=male     name=Meghan                        \n",
      "correct=female   guess=male     name=Morgen                        \n",
      "correct=female   guess=male     name=Mureil                        \n",
      "correct=female   guess=male     name=Nariko                        \n",
      "correct=female   guess=male     name=Phyllys                       \n",
      "correct=female   guess=male     name=Pooh                          \n",
      "correct=female   guess=male     name=Rhianon                       \n",
      "correct=female   guess=male     name=Riannon                       \n",
      "correct=female   guess=male     name=Shell                         \n",
      "correct=female   guess=male     name=Tess                          \n",
      "correct=female   guess=male     name=Van                           \n",
      "correct=male     guess=female   name=Abbey                         \n",
      "correct=male     guess=female   name=Alfie                         \n",
      "correct=male     guess=female   name=Ali                           \n",
      "correct=male     guess=female   name=Amery                         \n",
      "correct=male     guess=female   name=Amory                         \n",
      "correct=male     guess=female   name=Andrzej                       \n",
      "correct=male     guess=female   name=Bailey                        \n",
      "correct=male     guess=female   name=Bela                          \n",
      "correct=male     guess=female   name=Brady                         \n",
      "correct=male     guess=female   name=Burnaby                       \n",
      "correct=male     guess=female   name=Clive                         \n",
      "correct=male     guess=female   name=Clyde                         \n",
      "correct=male     guess=female   name=Corrie                        \n",
      "correct=male     guess=female   name=Dane                          \n",
      "correct=male     guess=female   name=Darby                         \n",
      "correct=male     guess=female   name=Dave                          \n",
      "correct=male     guess=female   name=Davey                         \n",
      "correct=male     guess=female   name=Dimitry                       \n",
      "correct=male     guess=female   name=Duffie                        \n",
      "correct=male     guess=female   name=Ely                           \n",
      "correct=male     guess=female   name=Farley                        \n",
      "correct=male     guess=female   name=Filipe                        \n",
      "correct=male     guess=female   name=Flemming                      \n",
      "correct=male     guess=female   name=Fox                           \n",
      "correct=male     guess=female   name=Garvey                        \n",
      "correct=male     guess=female   name=Garvy                         \n",
      "correct=male     guess=female   name=Grady                         \n",
      "correct=male     guess=female   name=Guthrey                       \n",
      "correct=male     guess=female   name=Isa                           \n",
      "correct=male     guess=female   name=Jefry                         \n",
      "correct=male     guess=female   name=Jere                          \n",
      "correct=male     guess=female   name=Kraig                         \n",
      "correct=male     guess=female   name=Lane                          \n",
      "correct=male     guess=female   name=Lennie                        \n",
      "correct=male     guess=female   name=Lonnie                        \n",
      "correct=male     guess=female   name=Lorne                         \n",
      "correct=male     guess=female   name=Maddie                        \n",
      "correct=male     guess=female   name=Marmaduke                     \n",
      "correct=male     guess=female   name=Marve                         \n",
      "correct=male     guess=female   name=Morly                         \n",
      "correct=male     guess=female   name=Olag                          \n",
      "correct=male     guess=female   name=Osbourne                      \n",
      "correct=male     guess=female   name=Ossie                         \n",
      "correct=male     guess=female   name=Pace                          \n",
      "correct=male     guess=female   name=Prince                        \n",
      "correct=male     guess=female   name=Rickey                        \n",
      "correct=male     guess=female   name=Rikki                         \n",
      "correct=male     guess=female   name=Ritchie                       \n",
      "correct=male     guess=female   name=Sandy                         \n",
      "correct=male     guess=female   name=Shay                          \n",
      "correct=male     guess=female   name=Shayne                        \n",
      "correct=male     guess=female   name=Sterne                        \n",
      "correct=male     guess=female   name=Sully                         \n",
      "correct=male     guess=female   name=Teddie                        \n",
      "correct=male     guess=female   name=Terence                       \n",
      "correct=male     guess=female   name=Thayne                        \n",
      "correct=male     guess=female   name=Theodore                      \n",
      "correct=male     guess=female   name=Towney                        \n",
      "correct=male     guess=female   name=Vijay                         \n",
      "correct=male     guess=female   name=Wallache                      \n",
      "correct=male     guess=female   name=Waverley                      \n",
      "correct=male     guess=female   name=Westley                       \n",
      "correct=male     guess=female   name=Woochang                      \n",
      "correct=male     guess=female   name=Wylie                         \n",
      "correct=male     guess=female   name=Yancy                         \n",
      "0.762\n",
      "0.7534562211981567\n"
     ]
    }
   ],
   "source": [
    "# Get the errors from using the devtest_set\n",
    "errors = []\n",
    "for (name, tag) in devtest_names:\n",
    "    guess = classifier.classify(gender_features(name))\n",
    "    if guess != tag:\n",
    "        errors.append( (tag, guess, name) )\n",
    "\n",
    "for (tag, guess, name) in sorted(errors):\n",
    "    print( 'correct=%-8s guess=%-8s name=%-30s' % (tag, guess, name))\n"
   ]
  },
  {
   "cell_type": "code",
   "execution_count": 54,
   "id": "0e3aa027",
   "metadata": {},
   "outputs": [
    {
     "name": "stdout",
     "output_type": "stream",
     "text": [
      "0.762\n",
      "0.7534562211981567\n"
     ]
    }
   ],
   "source": [
    "# Test the classifier with the devtest set\n",
    "print (nltk.classify.accuracy(classifier, devtest_set))\n",
    "\n",
    "# Evaluate with test_set\n",
    "print (nltk.classify.accuracy(classifier, test_set))\n"
   ]
  }
 ],
 "metadata": {
  "kernelspec": {
   "display_name": "Python 3 (ipykernel)",
   "language": "python",
   "name": "python3"
  },
  "language_info": {
   "codemirror_mode": {
    "name": "ipython",
    "version": 3
   },
   "file_extension": ".py",
   "mimetype": "text/x-python",
   "name": "python",
   "nbconvert_exporter": "python",
   "pygments_lexer": "ipython3",
   "version": "3.9.12"
  }
 },
 "nbformat": 4,
 "nbformat_minor": 5
}
