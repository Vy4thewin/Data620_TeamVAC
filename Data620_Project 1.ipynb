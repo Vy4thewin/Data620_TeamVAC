{
 "cells": [
  {
   "cell_type": "markdown",
   "id": "eb4e75ac",
   "metadata": {},
   "source": [
    "# Project 1| Intro to Categorical Networks"
   ]
  },
  {
   "cell_type": "markdown",
   "id": "dfdc79e3",
   "metadata": {},
   "source": [
    "### By Team VAC"
   ]
  },
  {
   "cell_type": "markdown",
   "id": "14f56756",
   "metadata": {},
   "source": [
    "## Introduction into Categorical Nodes\n"
   ]
  },
  {
   "cell_type": "markdown",
   "id": "acc76299",
   "metadata": {},
   "source": [
    "For this project, we explored networks with categorical variables. These categorical variables further describes the Node's purpose or its position in the network. For a example, A school's social network can have two types of nodes. The nodes could be labeled as staff and student nodes with its edges represent the classes and the closness of an average student to a particular staff member.\n",
    "\n",
    "[Once we find a graph that a bipartite type]\n"
   ]
  },
  {
   "cell_type": "code",
   "execution_count": 36,
   "id": "d3bf2db7",
   "metadata": {},
   "outputs": [
    {
     "name": "stderr",
     "output_type": "stream",
     "text": [
      "C:\\Users\\walki\\AppData\\Local\\Temp\\ipykernel_38468\\3534979979.py:9: DeprecationWarning: info is deprecated and will be removed in version 3.0.\n",
      "\n",
      "  nx.info(d)\n"
     ]
    },
    {
     "data": {
      "text/plain": [
       "'MultiDiGraph with 26 nodes and 52 edges'"
      ]
     },
     "execution_count": 36,
     "metadata": {},
     "output_type": "execute_result"
    }
   ],
   "source": [
    "#Importing networkx to analyze the divorce network set\n",
    "import snap\n",
    "import networkx as nx\n",
    "import matplotlib.pyplot as plt\n",
    "import matplotlib.patches as mpatches\n",
    "\n",
    "#\n",
    "#d=nx.read_pajek(\"Dining-table_partners.net\")\n",
    "#nx.info(d)"
   ]
  },
  {
   "cell_type": "code",
   "execution_count": null,
   "id": "c379c0e3",
   "metadata": {},
   "outputs": [],
   "source": []
  },
  {
   "cell_type": "code",
   "execution_count": null,
   "id": "14ba3dcd",
   "metadata": {},
   "outputs": [],
   "source": []
  }
 ],
 "metadata": {
  "kernelspec": {
   "display_name": "Python 3 (ipykernel)",
   "language": "python",
   "name": "python3"
  },
  "language_info": {
   "codemirror_mode": {
    "name": "ipython",
    "version": 3
   },
   "file_extension": ".py",
   "mimetype": "text/x-python",
   "name": "python",
   "nbconvert_exporter": "python",
   "pygments_lexer": "ipython3",
   "version": "3.9.12"
  }
 },
 "nbformat": 4,
 "nbformat_minor": 5
}
