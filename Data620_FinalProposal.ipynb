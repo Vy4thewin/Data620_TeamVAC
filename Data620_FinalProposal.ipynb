{
 "cells": [
  {
   "cell_type": "markdown",
   "id": "2f6aa3cf",
   "metadata": {},
   "source": [
    "# Data 620 Final Project Proposal"
   ]
  },
  {
   "cell_type": "markdown",
   "id": "d05543cb",
   "metadata": {},
   "source": [
    "## By Team VC"
   ]
  },
  {
   "cell_type": "markdown",
   "id": "9a1812a5",
   "metadata": {},
   "source": [
    "In the final project, we will walkthourgh the process of a product ranking system with real data from the SNAP Dataset collection<sup>1</sup>. The analysis is on a Amazon product network where products linked if brought together. The Amazon network contains multiple node types: products, product category membership, and reviewers. Our scope will focus on the sub-network of amazon products in the toy category.\n",
    "\n"
   ]
  },
  {
   "cell_type": "markdown",
   "id": "462d7839",
   "metadata": {},
   "source": [
    "Our objective determines the toy's rating based on its node and reviewers' features. We suspect the product reviewers' nodes may influence the accuracy of the predicted rank. Reviewers with a high helpful review count may give a product a rating closest to the overall rating. Our findings will help us understand how product reviews reflect its status in the toy network."
   ]
  },
  {
   "cell_type": "markdown",
   "id": "62d0b23a",
   "metadata": {},
   "source": [
    "The current concerns are the network reductions and the truthfulness of the reviews. The network reductions slow down the feature process and cannot spot view possible errors. The workarounds are the selection of certain toy products and/or a network of a certain radius length. The other concern is the reviewer's truthfulness in the reviews as there is no way for verification. We will have to take the information supplied at face value than a text analysis on the specific review itself.\n"
   ]
  },
  {
   "cell_type": "markdown",
   "id": "1fca53dd",
   "metadata": {},
   "source": [
    "\n",
    "Our project members both have the responsibility for feature analysis through NLTK. Cliff performed data preparation of the network through the file transformation into a .GML file. Vyanna will curate the table derived from the network nodes' details and types. For the presentation, Vyanna will walk through the network analysis and both members will be available for questions."
   ]
  },
  {
   "cell_type": "markdown",
   "id": "c762ffde",
   "metadata": {},
   "source": [
    ">1 https://snap.stanford.edu/data/"
   ]
  }
 ],
 "metadata": {
  "kernelspec": {
   "display_name": "Python 3 (ipykernel)",
   "language": "python",
   "name": "python3"
  },
  "language_info": {
   "codemirror_mode": {
    "name": "ipython",
    "version": 3
   },
   "file_extension": ".py",
   "mimetype": "text/x-python",
   "name": "python",
   "nbconvert_exporter": "python",
   "pygments_lexer": "ipython3",
   "version": "3.9.12"
  }
 },
 "nbformat": 4,
 "nbformat_minor": 5
}
