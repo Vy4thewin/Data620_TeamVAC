{
 "cells": [
  {
   "cell_type": "markdown",
   "id": "4ba0d05b",
   "metadata": {},
   "source": [
    "# Data 620 Final Project Proposal"
   ]
  },
  {
   "cell_type": "markdown",
   "id": "cfc71c0c",
   "metadata": {},
   "source": [
    "## By Team VC"
   ]
  },
  {
   "cell_type": "markdown",
   "id": "f1d0f034",
   "metadata": {},
   "source": [
    "In the final project, we will walkthourgh the process of a product ranking system with real data from the SNAP Dataset collection<sup>1</sup>. The analysis is on a Amazon product network where products linked if brought together. The Amazon network contains multiple node types: products, product category membership, and reviewers. Our scope will focus on the sub-network of amazon products in the toy category.\n",
    "\n"
   ]
  },
  {
   "cell_type": "markdown",
   "id": "da1d1754",
   "metadata": {},
   "source": [
    "Our objective determines the toy's rating based on its node and reviewers' features. We suspect the product reviewers' nodes may influence the accuracy of the predicted rank. Reviewers with a high helpful review count may give a product a rating closest to the overall rating. Our findings will help us understand how product reviews reflect its status in the toy network."
   ]
  },
  {
   "cell_type": "markdown",
   "id": "50320da8",
   "metadata": {},
   "source": [
    ">1 https://snap.stanford.edu/data/"
   ]
  },
  {
   "cell_type": "code",
   "execution_count": null,
   "id": "cffd5e6b",
   "metadata": {},
   "outputs": [],
   "source": []
  }
 ],
 "metadata": {
  "kernelspec": {
   "display_name": "Python 3 (ipykernel)",
   "language": "python",
   "name": "python3"
  },
  "language_info": {
   "codemirror_mode": {
    "name": "ipython",
    "version": 3
   },
   "file_extension": ".py",
   "mimetype": "text/x-python",
   "name": "python",
   "nbconvert_exporter": "python",
   "pygments_lexer": "ipython3",
   "version": "3.9.12"
  }
 },
 "nbformat": 4,
 "nbformat_minor": 5
}
