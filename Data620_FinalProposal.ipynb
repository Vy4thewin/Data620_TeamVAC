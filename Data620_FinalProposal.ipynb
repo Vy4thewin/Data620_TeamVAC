{
 "cells": [
  {
   "cell_type": "markdown",
   "id": "2f6aa3cf",
   "metadata": {},
   "source": [
    "# Data 620 Final Project Proposal"
   ]
  },
  {
   "cell_type": "markdown",
   "id": "d05543cb",
   "metadata": {},
   "source": [
    "## By Team VC"
   ]
  },
  {
   "cell_type": "markdown",
   "id": "d3a4369e",
   "metadata": {},
   "source": [
    "For our final project, we will investigate the relationship of Amazon's product ranking system to its many reviews. Speifically, we will attempt to answer one question: **given a network of products and their connected reviews, can we predict the salesrank for each product?**\n",
    "\n",
    "For our SNAP datasetsup>1</sup>, we have basic product attributes and anonymized reviewers. Reviewers are connected to a product if they submit a review; of course, some the number of submitted reviews will vary.  Each edge contains review characteristics:\n",
    "* Ranking - a reviewer's ranking of a product from 0 to 5 stars\n",
    "* Date - review's submission date\n",
    "* Votes - total number of votes on the review\n",
    "* Helpful - total number of helpfulness votes (how many people found the review to be helpful)\n",
    "\n",
    "This dataset forms a directional, weighted bipartite graph where each node is obviously either in the product or reviewer group. The weights can be either the reviewer rating or the helpfulness rating (or a combination).\n"
   ]
  },
  {
   "cell_type": "markdown",
   "id": "aa04496f",
   "metadata": {},
   "source": [
    "![Ego Network](amazon_ego_network.png)"
   ]
  },
  {
   "cell_type": "markdown",
   "id": "462d7839",
   "metadata": {},
   "source": [
    "From a high level, we will build a model to predict product ratings based on its node and reviewers' features (votes, helpfulness, rating). We suspect the product reviewers' nodes may influence the accuracy of the predicted rank. Reviewers with a high helpful review count may give a product a rating closest to the overall rating. Our findings will help us understand how product reviews reflect its status in the toy network."
   ]
  },
  {
   "cell_type": "markdown",
   "id": "62d0b23a",
   "metadata": {},
   "source": [
    "The current concerns are the network reductions and the truthfulness of the reviews. Additionally, the network reductions slow down the feature process and cannot spot view possible errors. The workarounds are the selection of certain toy products and/or a network of a certain radius length. The other concern is the reviewer's truthfulness in the reviews as there is no way for verification. We will have to take the information supplied at face value than a text analysis on the specific review itself.\n"
   ]
  },
  {
   "cell_type": "markdown",
   "id": "1fca53dd",
   "metadata": {},
   "source": [
    "\n",
    "Our project members both have the responsibility for feature analysis through NLTK. Cliff performed data preparation of the network through the file transformation into a .GML file. Vyanna will curate the table derived from the network nodes' details and types. For the presentation, Vyanna will walk through the network analysis and both members will be available for questions."
   ]
  },
  {
   "cell_type": "markdown",
   "id": "c762ffde",
   "metadata": {},
   "source": [
    "#### Reference\n",
    "\n",
    ">1 https://snap.stanford.edu/data/amazon0302.html"
   ]
  }
 ],
 "metadata": {
  "kernelspec": {
   "display_name": "Python 3 (ipykernel)",
   "language": "python",
   "name": "python3"
  },
  "language_info": {
   "codemirror_mode": {
    "name": "ipython",
    "version": 3
   },
   "file_extension": ".py",
   "mimetype": "text/x-python",
   "name": "python",
   "nbconvert_exporter": "python",
   "pygments_lexer": "ipython3",
   "version": "3.9.12"
  }
 },
 "nbformat": 4,
 "nbformat_minor": 5
}
