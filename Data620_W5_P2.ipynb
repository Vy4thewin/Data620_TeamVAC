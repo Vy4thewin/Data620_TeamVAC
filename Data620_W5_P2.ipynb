{
 "cells": [
  {
   "cell_type": "markdown",
   "id": "6c09942d",
   "metadata": {},
   "source": [
    "# Homework 5\n"
   ]
  },
  {
   "cell_type": "markdown",
   "id": "2dbb8555",
   "metadata": {},
   "source": [
    "## By Team VC"
   ]
  },
  {
   "cell_type": "markdown",
   "id": "7831a62a",
   "metadata": {},
   "source": [
    "### Document Classification with the NLTK Classifier"
   ]
  },
  {
   "cell_type": "markdown",
   "id": "94a3d61e",
   "metadata": {},
   "source": [
    "For this week's homework, we created a spam classifier with NLTK. We will use the [SMS Spam data collection](https://www.kaggle.com/datasets/uciml/sms-spam-collection-dataset?resource=download) for our spam detection purposes. The reason we went with the SMS dataset is due to a rise in mobile phishing. There is a delay in identification of this type of attack as mobile providers fall behind in the text analysis of messages compared to the hundreds of mobile apps for phone type phishing. This delay could be from a consumer's privacy preference or the development of these softwares have not reached the final testing stages. Let's simulate what this detection might look like below!\n",
    "\n",
    "The dataset imported has two useful columns: Ham/spam and its string. We wanted to mirror the data frame given in the Spambase data set for features our classifier can use. These transformations included some word frequencies with the forumlas given by [UCI](https://archive.ics.uci.edu/ml/datasets/spambaseet)."
   ]
  },
  {
   "cell_type": "code",
   "execution_count": 1,
   "id": "98d04aae",
   "metadata": {},
   "outputs": [],
   "source": [
    "# Loading in the data set\n",
    "import pandas as pd\n",
    "import numpy as np\n",
    "import re\n",
    "from numpy import mean\n",
    "from sklearn.utils import shuffle\n",
    "import nltk\n",
    "\n",
    "\n",
    "data=pd.read_csv('spam.csv', header=0,names=['Spam_Value', 'Str'],usecols=['Spam_Value','Str'],encoding=\"ISO-8859-1\")  \n",
    "\n",
    "#flip order of the data frame to use classifyer\n",
    "flip_df=pd.DataFrame().assign(Str=data['Str'],Spam_Value=data['Spam_Value'])\n",
    "#print(flip_df)\n",
    "\n",
    "\n",
    "#collect word counts to calculate frequencies| Word counts| Avgs-> Make a frequnecy chart \n",
    "d_stats=pd.DataFrame()\n",
    "d_stats['spam_ham']=data['Str']\n",
    "\n",
    "#Find the total word count of the text\n",
    "d_stats['Word_count']=data['Str'].str.split().str.len()\n",
    "d_stats['Char_count']=data['Str'].str.len()\n",
    "\n",
    "#Find all the capital words in the string- metric by UCI\n",
    "d_stats['capital_run_length_total']=data['Str'].str.count(\"[A-Z]{2,}\")\n",
    "#d_stats.loc[5:15,]\n",
    "\n",
    "#Find longest Capital word in the text\n",
    "def longest_Cap(w):\n",
    "    l=w.str.findall(\"[A-Z]{2,}\")\n",
    "    n=[0 if not n else len(max(n,key=len)) for n in l]\n",
    "    return n\n",
    "\n",
    "d_stats[\"capital_run_length_longest\"]=longest_Cap(data['Str'])\n",
    "\n",
    "#Find average capital words in a text | inspo of list avg from geek4geek's Average String length in list\n",
    "def avg_Cap(w):\n",
    "    l=w.str.findall(\"[A-Z]{2,}\")\n",
    "    n=[0 if not n else sum(map(len, n))/float(len(n)) for n in l]\n",
    "    return n\n",
    "\n",
    "d_stats[\"capital_run_length_average\"]=avg_Cap(data['Str'])\n"
   ]
  },
  {
   "cell_type": "code",
   "execution_count": 18,
   "id": "02d2d02d",
   "metadata": {
    "scrolled": true
   },
   "outputs": [],
   "source": [
    "#Section for words frequenices of our interest, Combo of UCI's word freq and ones we see in spam texts\n",
    "d_stats['freq_order']=data['Str'].str.count(\"order\",flags=re.I)\n",
    "d_stats['freq_receive']=data['Str'].str.count(\"receieve\",flags=re.I)\n",
    "d_stats['freq_will']=data['Str'].str.count(\"will\",flags=re.I)\n",
    "d_stats['freq_over']=data['Str'].str.count(\"over\",flags=re.I)\n",
    "d_stats['freq_you']=data['Str'].str.count(\"you\",flags=re.I)\n",
    "d_stats['freq_your']=data['Str'].str.count(\"your\",flags=re.I)\n",
    "d_stats['freq_credit']=data['Str'].str.count(\"credit\",flags=re.I)\n",
    "d_stats['freq_order']=data['Str'].str.count(\"order\",flags=re.I)\n",
    "d_stats['freq_free']=data['Str'].str.count(\"free\",flags=re.I)\n",
    "d_stats['freq_alert']=data['Str'].str.count(\"alert\",flags=re.I)\n",
    "d_stats['freq_urgent']=data['Str'].str.count(\"urgent\",flags=re.I)\n",
    "d_stats['freq_tried']=data['Str'].str.count(\"tried\",flags=re.I)\n",
    "d_stats['freq_txt']=data['Str'].str.count(\"txt\",flags=re.I)\n",
    "d_stats['freq_(']=data['Str'].str.count(\"\\(\")\n",
    "d_stats['freq_!']=data['Str'].str.count(\"!\")\n",
    "d_stats['freq_[']=data['Str'].str.count(\"\\[\")\n",
    "d_stats['freq_$']=data['Str'].str.count(\"\\$\")\n",
    "d_stats['freq_#']=data['Str'].str.count(\"#\")\n",
    "\n",
    "d_stats['freq_order']=(100*d_stats['freq_order'])/d_stats['Word_count']\n",
    "d_stats['freq_receive']=(100*d_stats['freq_receive'])/d_stats['Word_count']\n",
    "d_stats['freq_will']=(100*d_stats['freq_will'])/d_stats['Word_count']\n",
    "d_stats['freq_over']=(100*d_stats['freq_over'])/d_stats['Word_count']\n",
    "d_stats['freq_you']=(100*d_stats['freq_you'])/d_stats['Word_count']\n",
    "d_stats['freq_your']=(100*d_stats['freq_your'])/d_stats['Word_count']\n",
    "d_stats['freq_credit']=(100*d_stats['freq_credit'])/d_stats['Word_count']\n",
    "d_stats['freq_order']=(100*d_stats['freq_order'])/d_stats['Word_count']\n",
    "d_stats['freq_free']=(100*d_stats['freq_free'])/d_stats['Word_count']\n",
    "d_stats['freq_alert']=(100*d_stats['freq_alert'])/d_stats['Word_count']\n",
    "d_stats['freq_urgent']=(100*d_stats['freq_urgent'])/d_stats['Word_count']\n",
    "d_stats['freq_tried']=(100*d_stats['freq_tried'])/d_stats['Word_count']\n",
    "d_stats['freq_txt']=(100*d_stats['freq_txt'])/d_stats['Word_count']\n",
    "d_stats['freq_(']=(100*d_stats['freq_('])/d_stats['Char_count']\n",
    "d_stats['freq_!']=(100*d_stats['freq_!'])/d_stats['Char_count']\n",
    "d_stats['freq_[']=(100*d_stats['freq_['])/d_stats['Char_count']\n",
    "d_stats['freq_$']=(100*d_stats['freq_$'])/d_stats['Char_count']\n",
    "d_stats['freq_#']=(100*d_stats['freq_#'])/d_stats['Char_count']\n",
    "\n",
    "#display(d_stats[0:15])"
   ]
  },
  {
   "cell_type": "markdown",
   "id": "136d1eca",
   "metadata": {},
   "source": [
    "### Searching for SPAM through bigrams \n",
    "\n",
    "Since we have some features, we can try to see incorporating bigrams can help with classification. First, we'll focus only on the spam messages."
   ]
  },
  {
   "cell_type": "code",
   "execution_count": 17,
   "id": "aebff471",
   "metadata": {
    "scrolled": true
   },
   "outputs": [
    {
     "name": "stdout",
     "output_type": "stream",
     "text": [
      "2     Free entry in 2 a wkly comp to win FA Cup fina...\n",
      "5     FreeMsg Hey there darling it's been 3 week's n...\n",
      "8     WINNER!! As a valued network customer you have...\n",
      "9     Had your mobile 11 months or more? U R entitle...\n",
      "11    SIX chances to win CASH! From 100 to 20,000 po...\n",
      "Name: Str, dtype: object\n"
     ]
    }
   ],
   "source": [
    "print(data[ data['Spam_Value'] == 'spam'  ]['Str'].head(5))"
   ]
  },
  {
   "cell_type": "code",
   "execution_count": 7,
   "id": "cd581d25",
   "metadata": {},
   "outputs": [],
   "source": [
    "from nltk.collocations import *\n",
    "from nltk import bigrams\n",
    "import nltk\n",
    "\n",
    "def tokenize(sentences):\n",
    "    for sent in nltk.sent_tokenize(sentences.lower()):\n",
    "        for word in nltk.word_tokenize(sent):\n",
    "              yield word"
   ]
  },
  {
   "cell_type": "markdown",
   "id": "0295546e",
   "metadata": {},
   "source": [
    "We can tokenize the spam messasges and find bigrams that occur at least three times. We show both collocated bigrams but also the output of the BigramCollocationFinder as well."
   ]
  },
  {
   "cell_type": "code",
   "execution_count": 11,
   "id": "ec3d4342",
   "metadata": {},
   "outputs": [
    {
     "name": "stdout",
     "output_type": "stream",
     "text": [
      "Collocated spam words\n",
      "please call; await collection; valid 12hrs; account statement; land\n",
      "line; å£1000 cash; identifier code; 800 un-redeemed; 2003 account;\n",
      "every week; 2nd attempt; prize guaranteed; half price; secret admirer;\n",
      "dating service\n",
      "\n",
      "\n",
      "\n",
      "bigram collocations\n",
      "08701417012 profit\n",
      "14 tcr\n",
      "alfie moon\n",
      "city break\n",
      "cm2 9ae\n",
      "cross ntwk\n",
      "ibhltd ldnw15h\n",
      "m26 3uz\n",
      "press 0\n",
      "sk3 8wp\n"
     ]
    }
   ],
   "source": [
    "sentences = data[ data['Spam_Value'] == 'spam'  ]['Str'].tolist()\n",
    "all_spam = \" \".join(sentences).lower()\n",
    "words = tokenize(all_spam)\n",
    "text = nltk.Text(words)\n",
    "print(\"Collocated spam words\")\n",
    "text.collocations(15)\n",
    "print(\"\\n\\n\")\n",
    "\n",
    "\n",
    "# Use a bigram collocation finder\n",
    "bigram_measures = nltk.collocations.BigramAssocMeasures()\n",
    "\n",
    "tokens = nltk.wordpunct_tokenize(all_spam)\n",
    "finder = BigramCollocationFinder.from_words(tokens)\n",
    "finder.apply_freq_filter(3)\n",
    "finder.nbest(bigram_measures.pmi, 10)\n",
    "\n",
    "print(\"bigram collocations\")\n",
    "#print(sorted(finder.nbest(bigram_measures.pmi, 10)))\n",
    "for bg in sorted(finder.nbest(bigram_measures.pmi, 10)):\n",
    "    print(\" \".join(bg))"
   ]
  },
  {
   "cell_type": "markdown",
   "id": "9b1e3835",
   "metadata": {},
   "source": [
    "So we'll try to use the ten collocated bigrams and use them in a classifier."
   ]
  },
  {
   "cell_type": "markdown",
   "id": "715340b8",
   "metadata": {},
   "source": [
    "### Setting Up The Classifier"
   ]
  },
  {
   "cell_type": "markdown",
   "id": "25daf85d",
   "metadata": {},
   "source": [
    "Let's set up the classifier. For our features, we decided to host all the possible features in a separate data frame. It allowed us to create more granular feature list without the extra space within all the functions. The text message was used as our key to D_stats, which carried all possible metrics for our features list. We handled any popular text with the .values[0], as it will bring back the first value from the text message search."
   ]
  },
  {
   "cell_type": "code",
   "execution_count": 14,
   "id": "36c3ea36",
   "metadata": {},
   "outputs": [],
   "source": [
    "#Creating features list\n",
    "\n",
    "#Set up our features functions\n",
    "\n",
    "# Just a baseline feature list that doesn't provide much info\n",
    "def base_case(txt):\n",
    "    return {'throw': 1 }\n",
    "\n",
    "# Count the number of spam features\n",
    "def freq_feautures(txt):\n",
    "    features={}\n",
    "    features['freq_order'] = d_stats.loc[d_stats.spam_ham==txt,'freq_order'].values[0]\n",
    "    features['freq_receive']=d_stats.loc[d_stats.spam_ham==txt,'freq_receive'].values[0]\n",
    "    features['freq_will']=d_stats.loc[d_stats.spam_ham==txt,'freq_will'].values[0]\n",
    "    features['freq_over']=d_stats.loc[d_stats.spam_ham==txt,'freq_over'].values[0]\n",
    "    features['freq_you']=d_stats.loc[d_stats.spam_ham==txt,'freq_you'].values[0]\n",
    "    features['freq_your']=d_stats.loc[d_stats.spam_ham==txt,'freq_your'].values[0]\n",
    "    features['freq_credit']=d_stats.loc[d_stats.spam_ham==txt,'freq_credit'].values[0]\n",
    "    features['freq_order']=d_stats.loc[d_stats.spam_ham==txt,'freq_order'].values[0]\n",
    "    features['freq_free']=d_stats.loc[d_stats.spam_ham==txt,'freq_free'].values[0]\n",
    "    features['freq_alert']=d_stats.loc[d_stats.spam_ham==txt,'freq_alert'].values[0]\n",
    "    features['freq_urgent']=d_stats.loc[d_stats.spam_ham==txt,'freq_urgent'].values[0]\n",
    "    features['freq_tried']=d_stats.loc[d_stats.spam_ham==txt,'freq_order'].values[0]\n",
    "    features['freq_txt']=d_stats.loc[d_stats.spam_ham==txt,'freq_txt'].values[0]\n",
    "    features['freq_(']=d_stats.loc[d_stats.spam_ham==txt,'freq_('].values[0]\n",
    "    features['freq_!']=d_stats.loc[d_stats.spam_ham==txt,'freq_!'].values[0]\n",
    "    features['freq_[']=d_stats.loc[d_stats.spam_ham==txt,'freq_['].values[0]\n",
    "    features['freq_$']=d_stats.loc[d_stats.spam_ham==txt,'freq_$'].values[0]\n",
    "    features['freq_#']=d_stats.loc[d_stats.spam_ham==txt,'freq_#'].values[0]\n",
    "    return features\n",
    "\n",
    "# Count the word/sentence/characters\n",
    "def word_features(txt):\n",
    "    features={}\n",
    "    features['Word_count'] = d_stats.loc[d_stats.spam_ham==txt,'Word_count'].values[0]\n",
    "    features['Char_count'] = d_stats.loc[d_stats.spam_ham==txt,'Char_count'].values[0]\n",
    "    features['capital_run_length_total'] = d_stats.loc[d_stats.spam_ham==txt,'capital_run_length_total'].values[0]\n",
    "    features['capital_run_length_longest'] = d_stats.loc[d_stats.spam_ham==txt,'capital_run_length_longest'].values[0]\n",
    "    features['capital_run_length_average'] = d_stats.loc[d_stats.spam_ham==txt,'capital_run_length_average'].values[0]\n",
    "    return features\n",
    "\n",
    "# Mix parts of the previous two feature sets\n",
    "def mix_features(txt):\n",
    "    features={}\n",
    "    features['Word_count'] = d_stats.loc[d_stats.spam_ham==txt,'Word_count'].values[0]\n",
    "    features['capital_run_length_total'] = d_stats.loc[d_stats.spam_ham==txt,'capital_run_length_total'].values[0]\n",
    "    features['freq_free']=d_stats.loc[d_stats.spam_ham==txt,'freq_free'].values[0]\n",
    "    features['freq_!']=d_stats.loc[d_stats.spam_ham==txt,'freq_!'].values[0]\n",
    "    features['freq_#']=d_stats.loc[d_stats.spam_ham==txt,'freq_#'].values[0]\n",
    "    features['capital_run_length_average'] = d_stats.loc[d_stats.spam_ham==txt,'capital_run_length_average'].values[0]\n",
    "    return features\n",
    "\n",
    "# Incorporate spam bigrams\n",
    "def bigram_features(txt):\n",
    "    features={}\n",
    "    features['bigrams'] = re.search('08701417012 profit|14 tcr|alfie moon|city break|cm2 9ae|cross ntwk|ibhltd ldnw15h|m26 3uz|press 0|sk3 8wp', txt)\n",
    "    features['capital_run_length_total'] = d_stats.loc[d_stats.spam_ham==txt,'capital_run_length_total'].values[0]\n",
    "    features['capital_run_length_average'] = d_stats.loc[d_stats.spam_ham==txt,'capital_run_length_average'].values[0]\n",
    "    features['freq_free']=d_stats.loc[d_stats.spam_ham==txt,'freq_free'].values[0]\n",
    "    features['freq_alert']=d_stats.loc[d_stats.spam_ham==txt,'freq_alert'].values[0]\n",
    "    features['freq_urgent']=d_stats.loc[d_stats.spam_ham==txt,'freq_urgent'].values[0]\n",
    "    return features\n"
   ]
  },
  {
   "cell_type": "code",
   "execution_count": 4,
   "id": "5159cab2",
   "metadata": {},
   "outputs": [
    {
     "name": "stdout",
     "output_type": "stream",
     "text": [
      "[('Miles and smiles r made frm same letters but do u know d difference..? smile on ur face keeps me happy even though I am miles away from u.. :-)keep smiling.. Good nyt', 'ham')\n",
      " ('Merry christmas to u too annie!', 'ham')\n",
      " (\"Nah, I'm a perpetual DD\", 'ham')]\n"
     ]
    }
   ],
   "source": [
    "#collection of features to test\n",
    "all_features=[base_case,freq_feautures,word_features,mix_features,bigram_features]\n",
    "\n",
    "#randomly sort our string and sort between training and test set\n",
    "flip_df=shuffle(flip_df)\n",
    "flip_df=flip_df.to_records(index=False)\n",
    "train_names,test_names = flip_df[0:2000], flip_df[2001:4572]\n",
    "\n",
    "print(test_names[0:3])\n"
   ]
  },
  {
   "cell_type": "code",
   "execution_count": 15,
   "id": "be2428f5",
   "metadata": {},
   "outputs": [
    {
     "data": {
      "text/plain": [
       "<AxesSubplot:>"
      ]
     },
     "execution_count": 15,
     "metadata": {},
     "output_type": "execute_result"
    },
    {
     "data": {
      "image/png": "[encoded data removed]",
      "text/plain": [
       "<Figure size 432x288 with 2 Axes>"
      ]
     },
     "metadata": {
      "needs_background": "light"
     },
     "output_type": "display_data"
    }
   ],
   "source": [
    "results_list = []\n",
    "\n",
    "# For each feature function, try to classify the test sets\n",
    "for fn in all_features:\n",
    "    train_set = [(fn(n), g) for (n,g) in train_names]\n",
    "    test_set = [(word_features(n), g) for (n,g) in test_names]\n",
    "    \n",
    "    # make a classifier from the training set\n",
    "    classifier = nltk.classify.DecisionTreeClassifier.train(train_set)\n",
    "    \n",
    "    # Print the classifier logic\n",
    "    accuracy_train = nltk.classify.accuracy(classifier, train_set)\n",
    "    accuracy_test = nltk.classify.accuracy(classifier, test_set)\n",
    "\n",
    "    results_list.append([fn.__name__, accuracy_train, accuracy_test])\n",
    "\n",
    "\n",
    "results_df = pd.DataFrame(results_list,\n",
    "                          columns=['Function', \n",
    "                                   'Training Accuracy', \n",
    "                                   'Test Accuracy',\n",
    "                                   ])\n",
    "\n",
    "results_df.head()\n",
    "ax=results_df.plot('Function','Training Accuracy')\n",
    "results_df.plot('Function','Test Accuracy',secondary_y=True, ax=ax)\n"
   ]
  },
  {
   "cell_type": "markdown",
   "id": "1708f9ac",
   "metadata": {},
   "source": [
    "### Takeaways\n",
    "\n",
    "Clearly, we can achieve a better classification system when using word-features (sentence/word/character counts) versus  features of the frequency of spam-like characteristics (e.g. keywords and punctuation). Additionally, attempting to use a list of spam-bigrams did not yield noticeably better results than the word-features classifier.  Lastly, we see examples of overfitting the decision tree classifier to the training sets and they performed worse with the test sets."
   ]
  }
 ],
 "metadata": {
  "kernelspec": {
   "display_name": "Python 3 (ipykernel)",
   "language": "python",
   "name": "python3"
  },
  "language_info": {
   "codemirror_mode": {
    "name": "ipython",
    "version": 3
   },
   "file_extension": ".py",
   "mimetype": "text/x-python",
   "name": "python",
   "nbconvert_exporter": "python",
   "pygments_lexer": "ipython3",
   "version": "3.9.12"
  }
 },
 "nbformat": 4,
 "nbformat_minor": 5
}
